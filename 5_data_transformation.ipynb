{
 "cells": [
  {
   "cell_type": "markdown",
   "metadata": {},
   "source": [
    "<div style=\"background-color: #7b6832; padding: 20px; border-radius: 10px; box-shadow: 5px 5px 10px #888888;\">\n",
    "  <h1 style=\"color: cyan; font-size: 40px; font-weight: bold; text-align: center; text-shadow: 2px 2px 4px #000000;\">SPORTS PROJECT STORY\n",
    "</h1>\n",
    "</div>"
   ]
  },
  {
   "cell_type": "markdown",
   "metadata": {},
   "source": [
    "<div style=\"background-color: #3b6832; padding: 20px; border-radius: 10px; box-shadow: 5px 5px 10px #888888;\">\n",
    "  <h1 style=\"color: cyan; font-size: 20px; font-weight: bold; text-align: center; text-shadow: 2px 2px 4px #000000;\">TECH TITANS\n",
    "</h1>\n",
    "</div>"
   ]
  },
  {
   "cell_type": "code",
   "execution_count": 2,
   "metadata": {},
   "outputs": [
    {
     "name": "stderr",
     "output_type": "stream",
     "text": [
      "C:\\Users\\nagad\\AppData\\Local\\Temp\\ipykernel_11720\\3780974715.py:2: DeprecationWarning: \n",
      "Pyarrow will become a required dependency of pandas in the next major release of pandas (pandas 3.0),\n",
      "(to allow more performant data types, such as the Arrow string type, and better interoperability with other libraries)\n",
      "but was not found to be installed on your system.\n",
      "If this would cause problems for you,\n",
      "please provide us feedback at https://github.com/pandas-dev/pandas/issues/54466\n",
      "        \n",
      "  import pandas as pd\n"
     ]
    }
   ],
   "source": [
    "#Importing necessary libraries\n",
    "import pandas as pd\n",
    "import numpy as np\n",
    "import plotly.express as px\n",
    "from scipy import stats\n",
    "from scipy.stats import zscore\n",
    "import seaborn as sns\n",
    "\n",
    "from scipy.stats.mstats import winsorize \n",
    "from scipy.stats import chi2_contingency\n",
    "import matplotlib.pyplot as plt\n",
    "import plotly.graph_objs as go\n",
    "import plotly.io as pio\n",
    "from sklearn.model_selection import train_test_split\n",
    "from sklearn.preprocessing import MinMaxScaler, StandardScaler\n",
    "from sklearn.metrics import classification_report, confusion_matrix\n",
    "from sklearn.linear_model import LogisticRegression\n",
    "import pandas as pd\n",
    "from sklearn.decomposition import PCA  # Import PCA correctly\n",
    "from sklearn.impute import KNNImputer"
   ]
  },
  {
   "cell_type": "markdown",
   "metadata": {},
   "source": [
    "# PROBLEM STATEMENT 5"
   ]
  },
  {
   "cell_type": "markdown",
   "metadata": {},
   "source": [
    "### FEATURE ENGINEERING"
   ]
  },
  {
   "cell_type": "code",
   "execution_count": 3,
   "metadata": {},
   "outputs": [
    {
     "name": "stdout",
     "output_type": "stream",
     "text": [
      "Data after feature engineering:\n",
      "   GoalContribution        BMI\n",
      "0              13.0  24.059864\n",
      "1              18.0  20.562695\n",
      "2              51.0  26.955341\n",
      "3              14.0  14.957331\n",
      "4              14.0  21.346344\n"
     ]
    }
   ],
   "source": [
    "df=pd.read_csv(\"new_dataset.csv\")\n",
    "\n",
    "df['GoalContribution'] = df['Goals'] + df['Assists']\n",
    "df['BMI'] = df['Weight'] / ((df['Height']/100) ** 2)\n",
    "\n",
    "# Drop rows with NaN values generated from the feature engineering step\n",
    "df.dropna(subset=['GoalContribution', 'BMI'], inplace=True)\n",
    "\n",
    "print(\"Data after feature engineering:\")\n",
    "print(df[['GoalContribution', 'BMI']].head())"
   ]
  },
  {
   "cell_type": "code",
   "execution_count": 4,
   "metadata": {},
   "outputs": [
    {
     "name": "stdout",
     "output_type": "stream",
     "text": [
      "Normalized Data Head:\n",
      "      Height    Weight  PassCompletionRate  DistanceCovered  GoalContribution  \\\n",
      "0  0.105775  0.131617            0.452062         0.588381          0.042071   \n",
      "1  0.112064  0.049691            0.375512         0.064928          0.058252   \n",
      "2  0.551065  0.347646            0.403510         0.423716          0.165049   \n",
      "3  0.614292  0.008266            0.710681         0.352369          0.045307   \n",
      "4  0.804536  0.254845            0.020299         0.223921          0.045307   \n",
      "\n",
      "   TacklesWon  \n",
      "0    0.758621  \n",
      "1    0.931034  \n",
      "2    0.793103  \n",
      "3    0.103448  \n",
      "4    0.413793  \n"
     ]
    }
   ],
   "source": [
    "from sklearn.preprocessing import MinMaxScaler\n",
    "\n",
    "# Select relevant features for normalization\n",
    "features_to_normalize = ['Height', 'Weight', 'PassCompletionRate', 'DistanceCovered', 'GoalContribution', \n",
    "                         'TacklesWon']\n",
    "\n",
    "# Initialize MinMaxScaler\n",
    "scaler = MinMaxScaler()\n",
    "\n",
    "# Normalize the selected features\n",
    "df[features_to_normalize] = scaler.fit_transform(df[features_to_normalize])\n",
    "\n",
    "# Check normalized data\n",
    "print(\"Normalized Data Head:\\n\", df[features_to_normalize].head())\n"
   ]
  },
  {
   "cell_type": "code",
   "execution_count": 5,
   "metadata": {},
   "outputs": [
    {
     "name": "stdout",
     "output_type": "stream",
     "text": [
      "Explained Variance Ratio:\n",
      " [0.25793667 0.24661997 0.20523776 0.13913781 0.0767268  0.07434099]\n",
      "Cumulative Variance:\n",
      " [0.25793667 0.50455664 0.7097944  0.8489322  0.92565901 1.        ]\n"
     ]
    },
    {
     "data": {
      "image/png": "[encoded data removed]",
      "text/plain": [
       "<Figure size 1000x600 with 1 Axes>"
      ]
     },
     "metadata": {},
     "output_type": "display_data"
    }
   ],
   "source": [
    "from sklearn.decomposition import PCA\n",
    "\n",
    "# Initialize PCA\n",
    "pca = PCA(n_components=None)  # Set n_components to None to keep all components\n",
    "\n",
    "# Perform PCA on the normalized features\n",
    "pca_features = pca.fit_transform(df[features_to_normalize])\n",
    "\n",
    "# Create a DataFrame with the PCA components\n",
    "pca_df = pd.DataFrame(pca_features, columns=[f'PC{i+1}' for i in range(pca_features.shape[1])])\n",
    "\n",
    "# Display the explained variance ratio for each component\n",
    "explained_variance_ratio = pca.explained_variance_ratio_\n",
    "cumulative_variance = explained_variance_ratio.cumsum()\n",
    "print(\"Explained Variance Ratio:\\n\", explained_variance_ratio)\n",
    "print(\"Cumulative Variance:\\n\", cumulative_variance)\n",
    "\n",
    "# Plot the cumulative variance to decide the number of components to retain\n",
    "import matplotlib.pyplot as plt\n",
    "\n",
    "# Plot the explained variance ratio for each component\n",
    "plt.figure(figsize=(10, 6))\n",
    "plt.bar(range(1, len(explained_variance_ratio) + 1), explained_variance_ratio, alpha=0.5, align='center')\n",
    "plt.title('Explained Variance Ratio by PCA Components')\n",
    "plt.xlabel('Principal Components')\n",
    "plt.ylabel('Explained Variance Ratio')\n",
    "plt.grid(True)\n",
    "plt.show()\n",
    "\n"
   ]
  },
  {
   "cell_type": "code",
   "execution_count": 6,
   "metadata": {},
   "outputs": [
    {
     "name": "stdout",
     "output_type": "stream",
     "text": [
      "Selected PCA Components Head:\n",
      "         PC1       PC2       PC3       PC4       PC5\n",
      "0  0.267674  0.098591 -0.442091  0.066147 -0.195486\n",
      "1  0.491171 -0.404521 -0.410286 -0.010469 -0.276258\n",
      "2  0.298977 -0.049048  0.015024  0.024333  0.018337\n",
      "3 -0.391930 -0.187598  0.040428  0.307551 -0.328026\n",
      "4 -0.057856 -0.270301  0.263201 -0.367197 -0.078210\n"
     ]
    }
   ],
   "source": [
    "# Select a specific number of components based on the cumulative variance\n",
    "n_components_to_retain = 5  # Example: retain components explaining 95% variance\n",
    "\n",
    "# Perform PCA again with the selected number of components\n",
    "pca = PCA(n_components=n_components_to_retain)\n",
    "pca_features = pca.fit_transform(df[features_to_normalize])\n",
    "\n",
    "# Create a DataFrame with the selected PCA components\n",
    "pca_df = pd.DataFrame(pca_features, columns=[f'PC{i+1}' for i in range(n_components_to_retain)])\n",
    "\n",
    "# Check PCA components\n",
    "print(\"Selected PCA Components Head:\\n\", pca_df.head())\n"
   ]
  },
  {
   "cell_type": "code",
   "execution_count": 7,
   "metadata": {},
   "outputs": [],
   "source": [
    "# Save the results to CSV files\n",
    "df.to_csv('data_normalized.csv', index=False)\n",
    "pca_df.to_csv('data_pca.csv', index=False)"
   ]
  }
 ],
 "metadata": {
  "kernelspec": {
   "display_name": "base",
   "language": "python",
   "name": "python3"
  },
  "language_info": {
   "codemirror_mode": {
    "name": "ipython",
    "version": 3
   },
   "file_extension": ".py",
   "mimetype": "text/x-python",
   "name": "python",
   "nbconvert_exporter": "python",
   "pygments_lexer": "ipython3",
   "version": "3.11.9"
  }
 },
 "nbformat": 4,
 "nbformat_minor": 2
}
