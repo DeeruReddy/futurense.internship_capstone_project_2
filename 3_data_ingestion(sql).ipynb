{
 "cells": [
  {
   "cell_type": "markdown",
   "metadata": {},
   "source": [
    "<div style=\"background-color: #7b6832; padding: 20px; border-radius: 10px; box-shadow: 5px 5px 10px #888888;\">\n",
    "  <h1 style=\"color: cyan; font-size: 40px; font-weight: bold; text-align: center; text-shadow: 2px 2px 4px #000000;\">SPORTS PROJECT STORY\n",
    "</h1>\n",
    "</div>"
   ]
  },
  {
   "cell_type": "markdown",
   "metadata": {},
   "source": [
    "<div style=\"background-color: #3b6832; padding: 20px; border-radius: 10px; box-shadow: 5px 5px 10px #888888;\">\n",
    "  <h1 style=\"color: cyan; font-size: 20px; font-weight: bold; text-align: center; text-shadow: 2px 2px 4px #000000;\">TECH TITANS\n",
    "</h1>\n",
    "</div>"
   ]
  },
  {
   "cell_type": "code",
   "execution_count": 7,
   "metadata": {},
   "outputs": [],
   "source": [
    "#Importing necessary libraries\n",
    "import pandas as pd\n",
    "import numpy as np\n",
    "import plotly.express as px\n",
    "from scipy import stats\n",
    "from scipy.stats import zscore\n",
    "import seaborn as sns\n",
    "from scipy.stats.mstats import winsorize \n",
    "from scipy.stats import chi2_contingency\n",
    "import matplotlib.pyplot as plt\n",
    "import plotly.graph_objs as go\n",
    "import plotly.io as pio\n",
    "from sklearn.model_selection import train_test_split\n",
    "from sklearn.preprocessing import StandardScaler\n",
    "from sklearn.metrics import classification_report, confusion_matrix\n",
    "from sklearn.linear_model import LogisticRegression\n",
    "import pandas as pd\n",
    "from sklearn.decomposition import PCA  # Import PCA correctly"
   ]
  },
  {
   "cell_type": "code",
   "execution_count": 8,
   "metadata": {},
   "outputs": [
    {
     "name": "stdout",
     "output_type": "stream",
     "text": [
      "       serial number  Unnamed: 0    Player    Team   Age      Height  \\\n",
      "0                  1         0.0  Player C  Team C  31.0  164.238236   \n",
      "1                  2         1.0  Player D  Team C  22.0  164.489643   \n",
      "2                  3         2.0  Player A  Team C  27.0  182.039723   \n",
      "3                  4         3.0  Player C  Team C  29.0  184.567349   \n",
      "4                  5         4.0  Player C  Team C  27.0  192.172813   \n",
      "...              ...         ...       ...     ...   ...         ...   \n",
      "16623          16624      3190.0  Player B  Team B  27.0  164.120768   \n",
      "16624          16625      3403.0  Player D  Team B  22.0  182.119023   \n",
      "16625          16626      2464.0  Player A  Team C  34.0  194.381108   \n",
      "16626          16627      3008.0  Player D  Team B  19.0  188.478929   \n",
      "16627          16628      1014.0  Player A  Team A  26.0  188.478929   \n",
      "\n",
      "          Weight    Position  Goals  Assists  ...  TacklesWon  CleanSheets  \\\n",
      "0      64.899554    Defender   11.0      2.0  ...        22.0          6.0   \n",
      "1      55.636159    Defender    2.0     16.0  ...        27.0          6.0   \n",
      "2      89.325850    Defender   38.0     13.0  ...        23.0          5.0   \n",
      "3      50.952308     Forward   13.0      1.0  ...         3.0          4.0   \n",
      "4      78.832881    Defender    6.0      8.0  ...        12.0          8.0   \n",
      "...          ...         ...    ...      ...  ...         ...          ...   \n",
      "16623  89.864429  Goalkeeper   11.0      9.0  ...        17.0          2.0   \n",
      "16624  83.702404  Goalkeeper   26.0      9.0  ...        16.0          5.0   \n",
      "16625  83.541854     Forward    3.0      9.0  ...        11.0          7.0   \n",
      "16626  89.593964    Defender    7.0     10.0  ...         8.0          5.0   \n",
      "16627  78.520496  Goalkeeper    0.0      7.0  ...        26.0          6.0   \n",
      "\n",
      "       PlayerFatigue  MatchPressure  InjuryHistory  TrainingHours  \\\n",
      "0           0.374540           55.0            0.0      18.390595   \n",
      "1           0.950714           96.0            8.0      15.017219   \n",
      "2           0.731994           36.0            8.0      17.966084   \n",
      "3           0.598658           37.0            4.0      19.347216   \n",
      "4           0.156019           14.0            1.0       6.884615   \n",
      "...              ...            ...            ...            ...   \n",
      "16623       0.307796           43.0            4.0      17.282291   \n",
      "16624       0.978856           32.0            1.0       8.196836   \n",
      "16625       0.620660           39.0            1.0       8.211312   \n",
      "16626       0.674020           47.0            0.0      17.291954   \n",
      "16627       0.812928            8.0            6.0       8.330496   \n",
      "\n",
      "       FatigueInjuryCorrelation  PressurePerformanceImpact  EffectiveTraining  \\\n",
      "0                      1.864902                   1.416667         247.074763   \n",
      "1                      0.222857                   6.666667         216.066045   \n",
      "2                      0.000000                   8.000000         359.936777   \n",
      "3                      0.077487                   2.142857         271.347911   \n",
      "4                      1.029822                   9.857143         112.185952   \n",
      "...                         ...                        ...                ...   \n",
      "16623                  4.216319                   5.583333         323.417940   \n",
      "16624                  3.492580                   2.259259         581.579959   \n",
      "16625                  0.113794                   3.750000         380.134961   \n",
      "16626                  3.758104                   2.250000         280.472148   \n",
      "16627                  2.801696                   4.879655         129.475412   \n",
      "\n",
      "       Season  \n",
      "0      2022.0  \n",
      "1      2019.0  \n",
      "2      2022.0  \n",
      "3      2020.0  \n",
      "4      2022.0  \n",
      "...       ...  \n",
      "16623  2022.0  \n",
      "16624  2022.0  \n",
      "16625  2019.0  \n",
      "16626  2019.0  \n",
      "16627  2021.0  \n",
      "\n",
      "[16628 rows x 26 columns]\n"
     ]
    }
   ],
   "source": [
    "import pandas as pd\n",
    "\n",
    "df=pd.read_csv(\"cleaned_sports_dataset.csv\")\n",
    "\n",
    "# Print the updated DataFrame\n",
    "print(df)"
   ]
  }
 ],
 "metadata": {
  "kernelspec": {
   "display_name": "Python 3",
   "language": "python",
   "name": "python3"
  },
  "language_info": {
   "codemirror_mode": {
    "name": "ipython",
    "version": 3
   },
   "file_extension": ".py",
   "mimetype": "text/x-python",
   "name": "python",
   "nbconvert_exporter": "python",
   "pygments_lexer": "ipython3",
   "version": "3.11.9"
  }
 },
 "nbformat": 4,
 "nbformat_minor": 2
}
