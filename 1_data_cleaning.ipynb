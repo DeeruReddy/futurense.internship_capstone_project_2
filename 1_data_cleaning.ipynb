{
 "cells": [
  {
   "cell_type": "markdown",
   "metadata": {},
   "source": [
    "<div style=\"background-color: #7b6832; padding: 20px; border-radius: 10px; box-shadow: 5px 5px 10px #888888;\">\n",
    "  <h1 style=\"color: cyan; font-size: 40px; font-weight: bold; text-align: center; text-shadow: 2px 2px 4px #000000;\">SPORTS PROJECT STORY\n",
    "</h1>\n",
    "</div>"
   ]
  },
  {
   "cell_type": "markdown",
   "metadata": {},
   "source": [
    "<div style=\"background-color: #3b6832; padding: 20px; border-radius: 10px; box-shadow: 5px 5px 10px #888888;\">\n",
    "  <h1 style=\"color: cyan; font-size: 20px; font-weight: bold; text-align: center; text-shadow: 2px 2px 4px #000000;\">TECH TITANS\n",
    "</h1>\n",
    "</div>"
   ]
  },
  {
   "cell_type": "markdown",
   "metadata": {},
   "source": [
    "# PROBLEM STATEMENT 1"
   ]
  },
  {
   "cell_type": "markdown",
   "metadata": {},
   "source": [
    "### IMPORTING NECESSARY MODULES"
   ]
  },
  {
   "cell_type": "code",
   "execution_count": 219,
   "metadata": {},
   "outputs": [],
   "source": [
    "#Importing necessary libraries\n",
    "import pandas as pd\n",
    "import numpy as np\n",
    "import plotly.express as px\n",
    "from scipy import stats\n",
    "from scipy.stats import zscore\n",
    "import seaborn as sns\n",
    "from scipy.stats.mstats import winsorize \n",
    "from scipy.stats import chi2_contingency\n",
    "import matplotlib.pyplot as plt\n",
    "import plotly.graph_objs as go\n",
    "import plotly.io as pio\n",
    "from sklearn.model_selection import train_test_split\n",
    "from sklearn.preprocessing import StandardScaler\n",
    "from sklearn.metrics import classification_report, confusion_matrix\n",
    "from sklearn.linear_model import LogisticRegression\n",
    "import pandas as pd\n",
    "from sklearn.decomposition import PCA  # Import PCA correctly\n",
    "from sklearn.impute import KNNImputer"
   ]
  },
  {
   "cell_type": "markdown",
   "metadata": {},
   "source": [
    "### READ THE CSV FILE"
   ]
  },
  {
   "cell_type": "code",
   "execution_count": 220,
   "metadata": {},
   "outputs": [],
   "source": [
    "df=pd.read_csv(\"Sports Dataset.csv\")"
   ]
  },
  {
   "cell_type": "markdown",
   "metadata": {},
   "source": [
    "### DUPLICATES "
   ]
  },
  {
   "cell_type": "code",
   "execution_count": 221,
   "metadata": {},
   "outputs": [
    {
     "name": "stdout",
     "output_type": "stream",
     "text": [
      "Duplicate Rows :\n",
      "        Unnamed: 0    Player    Team  Age      Height      Weight    Position  \\\n",
      "10003         479  Player D  Team B   28  186.676216   92.581632  Midfielder   \n",
      "10004        4819  Player C  Team A   21  180.049309   73.049301     Forward   \n",
      "10005        3536  Player A  Team C   20  185.549570  111.329785  Midfielder   \n",
      "10008        4010  Player B  Team C   20  177.503910   81.762427    Defender   \n",
      "10009        2881  Player A  Team C   34  190.993111   89.583049     Forward   \n",
      "...           ...       ...     ...  ...         ...         ...         ...   \n",
      "19989        1173  Player C  Team B   21  193.777053         NaN  Goalkeeper   \n",
      "19990         461  Player A  Team B   29         NaN   83.976103     Forward   \n",
      "19992        3381  Player D  Team B   29  173.369855         NaN     Forward   \n",
      "19993         833  Player D  Team C   35  198.137433   61.359658    Defender   \n",
      "19998        3876  Player A  Team A   36  188.985253   93.942995  Goalkeeper   \n",
      "\n",
      "       Goals  Assists  YellowCards  ...  TacklesWon  CleanSheets  \\\n",
      "10003   20.0      2.0            9  ...          19            2   \n",
      "10004    NaN     19.0            2  ...           2            3   \n",
      "10005   17.0      NaN            6  ...           6            7   \n",
      "10008    4.0      6.0            6  ...          23            8   \n",
      "10009   28.0     10.0            3  ...          18            0   \n",
      "...      ...      ...          ...  ...         ...          ...   \n",
      "19989    1.0      NaN            5  ...          26            8   \n",
      "19990    NaN      1.0            5  ...           0            6   \n",
      "19992    NaN      1.0            2  ...          12            5   \n",
      "19993   80.0     10.0            6  ...          15            9   \n",
      "19998    NaN      9.0            1  ...          15            4   \n",
      "\n",
      "       PlayerFatigue  MatchPressure  InjuryHistory  TrainingHours  \\\n",
      "10003       0.410933             62              8       7.679630   \n",
      "10004       0.753476             59              1      13.143236   \n",
      "10005       0.583307             90              0       5.239957   \n",
      "10008       0.940180             44              1      14.422160   \n",
      "10009       0.855030             32              2      12.642942   \n",
      "...              ...            ...            ...            ...   \n",
      "19989       0.836440             69              3       8.695777   \n",
      "19990       0.685713             58              5       6.606108   \n",
      "19992       0.576406              3              9      18.327394   \n",
      "19993       0.215359             85              0      18.481958   \n",
      "19998       0.168204              2              7      18.990966   \n",
      "\n",
      "       FatigueInjuryCorrelation  PressurePerformanceImpact  EffectiveTraining  \\\n",
      "10003                  0.000000                   3.047619         340.384031   \n",
      "10004                  2.905791                        NaN                NaN   \n",
      "10005                  0.659387                   3.222222                NaN   \n",
      "10008                  0.215672                   5.000000          81.805986   \n",
      "10009                  3.706639                   1.896552         482.004998   \n",
      "...                         ...                        ...                ...   \n",
      "19989                  7.111101                  28.000000                NaN   \n",
      "19990                  0.383971                        NaN                NaN   \n",
      "19992                  0.000000                   0.555556         517.470341   \n",
      "19993                  0.789235                   0.333333        1241.892718   \n",
      "19998                  2.782170                   6.200000         227.990884   \n",
      "\n",
      "       Season  \n",
      "10003    2021  \n",
      "10004    2022  \n",
      "10005    2021  \n",
      "10008    2020  \n",
      "10009    2021  \n",
      "...       ...  \n",
      "19989    2022  \n",
      "19990    2020  \n",
      "19992    2020  \n",
      "19993    2019  \n",
      "19998    2022  \n",
      "\n",
      "[3372 rows x 25 columns]\n"
     ]
    }
   ],
   "source": [
    "# Check for duplicated rows based on all columns\n",
    "duplicated_rows = df.duplicated()\n",
    "\n",
    "# Print the duplicate rows\n",
    "print(\"Duplicate Rows :\\n\", df[duplicated_rows])"
   ]
  },
  {
   "cell_type": "markdown",
   "metadata": {},
   "source": [
    "### DROP DUPLICATES"
   ]
  },
  {
   "cell_type": "code",
   "execution_count": 222,
   "metadata": {},
   "outputs": [],
   "source": [
    "df = df.drop_duplicates()"
   ]
  },
  {
   "cell_type": "markdown",
   "metadata": {},
   "source": [
    "### RE-CHECK FOR DUPLICATES"
   ]
  },
  {
   "cell_type": "code",
   "execution_count": 223,
   "metadata": {},
   "outputs": [
    {
     "name": "stdout",
     "output_type": "stream",
     "text": [
      "Duplicate Rows :\n",
      " Empty DataFrame\n",
      "Columns: [Unnamed: 0, Player, Team, Age, Height, Weight, Position, Goals, Assists, YellowCards, RedCards, PassCompletionRate, DistanceCovered, Sprints, ShotsOnTarget, TacklesWon, CleanSheets, PlayerFatigue, MatchPressure, InjuryHistory, TrainingHours, FatigueInjuryCorrelation, PressurePerformanceImpact, EffectiveTraining, Season]\n",
      "Index: []\n",
      "\n",
      "[0 rows x 25 columns]\n"
     ]
    }
   ],
   "source": [
    "# Check for duplicated rows based on all columns\n",
    "duplicated_rows = df.duplicated()\n",
    "\n",
    "# Print the duplicate rows\n",
    "print(\"Duplicate Rows :\\n\", df[duplicated_rows])"
   ]
  },
  {
   "cell_type": "markdown",
   "metadata": {},
   "source": [
    "### NULL VALUES"
   ]
  },
  {
   "cell_type": "code",
   "execution_count": 224,
   "metadata": {},
   "outputs": [
    {
     "name": "stdout",
     "output_type": "stream",
     "text": [
      "Unnamed: 0                      0\n",
      "Player                          0\n",
      "Team                            0\n",
      "Age                             0\n",
      "Height                       3864\n",
      "Weight                       3950\n",
      "Position                        0\n",
      "Goals                        3939\n",
      "Assists                      3935\n",
      "YellowCards                     0\n",
      "RedCards                        0\n",
      "PassCompletionRate           2410\n",
      "DistanceCovered                 0\n",
      "Sprints                         0\n",
      "ShotsOnTarget                   0\n",
      "TacklesWon                      0\n",
      "CleanSheets                     0\n",
      "PlayerFatigue                   0\n",
      "MatchPressure                   0\n",
      "InjuryHistory                   0\n",
      "TrainingHours                   0\n",
      "FatigueInjuryCorrelation        0\n",
      "PressurePerformanceImpact    1711\n",
      "EffectiveTraining            3228\n",
      "Season                          0\n",
      "dtype: int64\n"
     ]
    }
   ],
   "source": [
    "print(df.isna().sum())"
   ]
  },
  {
   "cell_type": "markdown",
   "metadata": {},
   "source": [
    "### IMPUTATION FOR NULL VALUES"
   ]
  },
  {
   "cell_type": "code",
   "execution_count": 225,
   "metadata": {},
   "outputs": [
    {
     "name": "stderr",
     "output_type": "stream",
     "text": [
      "C:\\Users\\nagad\\AppData\\Local\\Temp\\ipykernel_17208\\3320877046.py:9: FutureWarning: A value is trying to be set on a copy of a DataFrame or Series through chained assignment using an inplace method.\n",
      "The behavior will change in pandas 3.0. This inplace method will never work because the intermediate object on which we are setting values always behaves as a copy.\n",
      "\n",
      "For example, when doing 'df[col].method(value, inplace=True)', try using 'df.method({col: value}, inplace=True)' or df[col] = df[col].method(value) instead, to perform the operation inplace on the original object.\n",
      "\n",
      "\n",
      "  df[column].fillna(mean_value, inplace=True)\n"
     ]
    }
   ],
   "source": [
    "import pandas as pd\n",
    "\n",
    "\n",
    "# Iterate over each column in the DataFrame\n",
    "for column in df.select_dtypes(include='number'):\n",
    "    # Calculate the mean of the column\n",
    "    mean_value = df[column].mean()\n",
    "    # Impute null values with the mean\n",
    "    df[column].fillna(mean_value, inplace=True) \n"
   ]
  },
  {
   "cell_type": "code",
   "execution_count": 226,
   "metadata": {},
   "outputs": [],
   "source": [
    "# Round off specific columns to the nearest integer\n",
    "df['Assists'] = df['Assists'].round().astype(int)\n",
    "df['Goals'] = df['Goals'].round().astype(int)"
   ]
  },
  {
   "cell_type": "markdown",
   "metadata": {},
   "source": [
    "### OUTLIER DETECTION "
   ]
  },
  {
   "cell_type": "code",
   "execution_count": 227,
   "metadata": {},
   "outputs": [],
   "source": [
    "from scipy.stats import zscore\n",
    "numeric_columns = df.select_dtypes(include=['number'])\n",
    "z_scores = numeric_columns.apply(zscore)\n",
    "threshold = 3\n",
    "outliers = (z_scores.abs() > threshold)\n",
    "# Display the rows with outliers\n",
    "outlier_rows = df[outliers.any(axis=1)]\n",
    "\n",
    "# Get the row indices of the outliers for each column\n",
    "outlier_indices = {}\n",
    "for col in outliers.columns:\n",
    "    outlier_indices[col] = outliers.index[outliers[col]].tolist()"
   ]
  },
  {
   "cell_type": "markdown",
   "metadata": {},
   "source": [
    "### OUTLIER CORRECTION"
   ]
  },
  {
   "cell_type": "code",
   "execution_count": 228,
   "metadata": {},
   "outputs": [
    {
     "name": "stderr",
     "output_type": "stream",
     "text": [
      "C:\\Users\\nagad\\AppData\\Local\\Temp\\ipykernel_17208\\1931250825.py:4: FutureWarning: Setting an item of incompatible dtype is deprecated and will raise an error in a future version of pandas. Value '2504.895116670676' has dtype incompatible with int64, please explicitly cast to a compatible dtype first.\n",
      "  df.loc[outliers[col], col] = mean_without_outliers\n",
      "C:\\Users\\nagad\\AppData\\Local\\Temp\\ipykernel_17208\\1931250825.py:4: FutureWarning: Setting an item of incompatible dtype is deprecated and will raise an error in a future version of pandas. Value '28.580887659369736' has dtype incompatible with int64, please explicitly cast to a compatible dtype first.\n",
      "  df.loc[outliers[col], col] = mean_without_outliers\n",
      "C:\\Users\\nagad\\AppData\\Local\\Temp\\ipykernel_17208\\1931250825.py:4: FutureWarning: Setting an item of incompatible dtype is deprecated and will raise an error in a future version of pandas. Value '34.278806150135665' has dtype incompatible with int32, please explicitly cast to a compatible dtype first.\n",
      "  df.loc[outliers[col], col] = mean_without_outliers\n",
      "C:\\Users\\nagad\\AppData\\Local\\Temp\\ipykernel_17208\\1931250825.py:4: FutureWarning: Setting an item of incompatible dtype is deprecated and will raise an error in a future version of pandas. Value '9.35849170074573' has dtype incompatible with int32, please explicitly cast to a compatible dtype first.\n",
      "  df.loc[outliers[col], col] = mean_without_outliers\n",
      "C:\\Users\\nagad\\AppData\\Local\\Temp\\ipykernel_17208\\1931250825.py:4: FutureWarning: Setting an item of incompatible dtype is deprecated and will raise an error in a future version of pandas. Value '4.551118595140727' has dtype incompatible with int64, please explicitly cast to a compatible dtype first.\n",
      "  df.loc[outliers[col], col] = mean_without_outliers\n",
      "C:\\Users\\nagad\\AppData\\Local\\Temp\\ipykernel_17208\\1931250825.py:4: FutureWarning: Setting an item of incompatible dtype is deprecated and will raise an error in a future version of pandas. Value '1.9972937214337263' has dtype incompatible with int64, please explicitly cast to a compatible dtype first.\n",
      "  df.loc[outliers[col], col] = mean_without_outliers\n",
      "C:\\Users\\nagad\\AppData\\Local\\Temp\\ipykernel_17208\\1931250825.py:4: FutureWarning: Setting an item of incompatible dtype is deprecated and will raise an error in a future version of pandas. Value '48.26503488092374' has dtype incompatible with int64, please explicitly cast to a compatible dtype first.\n",
      "  df.loc[outliers[col], col] = mean_without_outliers\n",
      "C:\\Users\\nagad\\AppData\\Local\\Temp\\ipykernel_17208\\1931250825.py:4: FutureWarning: Setting an item of incompatible dtype is deprecated and will raise an error in a future version of pandas. Value '6.910031272552321' has dtype incompatible with int64, please explicitly cast to a compatible dtype first.\n",
      "  df.loc[outliers[col], col] = mean_without_outliers\n",
      "C:\\Users\\nagad\\AppData\\Local\\Temp\\ipykernel_17208\\1931250825.py:4: FutureWarning: Setting an item of incompatible dtype is deprecated and will raise an error in a future version of pandas. Value '14.476124609093096' has dtype incompatible with int64, please explicitly cast to a compatible dtype first.\n",
      "  df.loc[outliers[col], col] = mean_without_outliers\n",
      "C:\\Users\\nagad\\AppData\\Local\\Temp\\ipykernel_17208\\1931250825.py:4: FutureWarning: Setting an item of incompatible dtype is deprecated and will raise an error in a future version of pandas. Value '4.528506134231417' has dtype incompatible with int64, please explicitly cast to a compatible dtype first.\n",
      "  df.loc[outliers[col], col] = mean_without_outliers\n",
      "C:\\Users\\nagad\\AppData\\Local\\Temp\\ipykernel_17208\\1931250825.py:4: FutureWarning: Setting an item of incompatible dtype is deprecated and will raise an error in a future version of pandas. Value '49.87226365167188' has dtype incompatible with int64, please explicitly cast to a compatible dtype first.\n",
      "  df.loc[outliers[col], col] = mean_without_outliers\n",
      "C:\\Users\\nagad\\AppData\\Local\\Temp\\ipykernel_17208\\1931250825.py:4: FutureWarning: Setting an item of incompatible dtype is deprecated and will raise an error in a future version of pandas. Value '4.4800938176569645' has dtype incompatible with int64, please explicitly cast to a compatible dtype first.\n",
      "  df.loc[outliers[col], col] = mean_without_outliers\n",
      "C:\\Users\\nagad\\AppData\\Local\\Temp\\ipykernel_17208\\1931250825.py:4: FutureWarning: Setting an item of incompatible dtype is deprecated and will raise an error in a future version of pandas. Value '2020.5014433485687' has dtype incompatible with int64, please explicitly cast to a compatible dtype first.\n",
      "  df.loc[outliers[col], col] = mean_without_outliers\n"
     ]
    }
   ],
   "source": [
    "# Replace outliers with the mean of the respective column\n",
    "for col in outliers.columns:\n",
    "    mean_without_outliers = numeric_columns.loc[~outliers[col], col].mean()\n",
    "    df.loc[outliers[col], col] = mean_without_outliers"
   ]
  },
  {
   "cell_type": "code",
   "execution_count": 229,
   "metadata": {},
   "outputs": [],
   "source": [
    "# Add a new column 'serial number' with values starting from 1\n",
    "df.insert(0, 'serial number', range(1, len(df) + 1))"
   ]
  },
  {
   "cell_type": "code",
   "execution_count": 230,
   "metadata": {},
   "outputs": [],
   "source": [
    "df.to_csv(\"cleaned_sports_dataset.csv\", index=False)"
   ]
  }
 ],
 "metadata": {
  "kernelspec": {
   "display_name": "Python 3",
   "language": "python",
   "name": "python3"
  },
  "language_info": {
   "codemirror_mode": {
    "name": "ipython",
    "version": 3
   },
   "file_extension": ".py",
   "mimetype": "text/x-python",
   "name": "python",
   "nbconvert_exporter": "python",
   "pygments_lexer": "ipython3",
   "version": "3.11.9"
  }
 },
 "nbformat": 4,
 "nbformat_minor": 2
}
