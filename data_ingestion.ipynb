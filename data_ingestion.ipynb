{
 "cells": [
  {
   "cell_type": "code",
   "execution_count": 1,
   "id": "d10d46c0",
   "metadata": {},
   "outputs": [],
   "source": [
    "#Importing necessary libraries \n",
    "import mysql.connector\n",
    "from mysql.connector import Error\n",
    "import pandas as pd\n",
    "import concurrent.futures\n",
    "import time \n",
    "import logging"
   ]
  },
  {
   "cell_type": "markdown",
   "id": "8ddedbda",
   "metadata": {},
   "source": [
    "### 1. Establishing a connection between python and MySQL"
   ]
  },
  {
   "cell_type": "code",
   "execution_count": 2,
   "id": "2c8a5c01",
   "metadata": {},
   "outputs": [
    {
     "name": "stdout",
     "output_type": "stream",
     "text": [
      "Connected to MySQL database\n"
     ]
    },
    {
     "data": {
      "text/plain": [
       "<mysql.connector.connection_cext.CMySQLConnection at 0x1837f3dacd0>"
      ]
     },
     "execution_count": 2,
     "metadata": {},
     "output_type": "execute_result"
    }
   ],
   "source": [
    "#Establishing mysql - python connection\n",
    "db_configuration = {\n",
    "    'host': 'localhost',\n",
    "    'database': 'sports_database',\n",
    "    'user': 'root',\n",
    "    'password': '123mysql.',\n",
    "    'port': '3307'\n",
    "}\n",
    "\n",
    "#Function to connect to the MySQL database\n",
    "def connect_to_database():\n",
    "    try:\n",
    "        connection = mysql.connector.connect(**db_configuration)\n",
    "        if connection.is_connected():\n",
    "            print(\"Connected to MySQL database\")\n",
    "            return connection\n",
    "    except Error as e:\n",
    "        print(f\"Error connecting to MySQL database: {e}\")\n",
    "\n",
    "connect_to_database()"
   ]
  },
  {
   "cell_type": "markdown",
   "id": "d7a79296",
   "metadata": {},
   "source": [
    "### 2. Ingestion of data and logging"
   ]
  },
  {
   "cell_type": "code",
   "execution_count": 3,
   "id": "699fdc8c",
   "metadata": {},
   "outputs": [
    {
     "name": "stdout",
     "output_type": "stream",
     "text": [
      "Database and table setup complete.\n"
     ]
    }
   ],
   "source": [
    "import concurrent.futures\n",
    "import time\n",
    "\n",
    "#logging configuration\n",
    "logging.basicConfig(level=logging.INFO, filename='data_ingestion.log', filemode='a', format='%(asctime)s - %(levelname)s - %(message)s')\n",
    "\n",
    "db_config = {\n",
    "    'host': 'localhost',\n",
    "    'user': 'root',\n",
    "    'database': 'sports_database',\n",
    "    'password': '123mysql.',\n",
    "    'port': '3307'\n",
    "}\n",
    "\n",
    "conn = mysql.connector.connect(**db_config)\n",
    "cursor = conn.cursor()\n",
    "    \n",
    "cursor.execute('''\n",
    "        CREATE TABLE sports_dataset (Sl_no Integer PRIMARY KEY,Unnamed INTEGER, Player VARCHAR(255) NOT NULL,Team VARCHAR(255), Age INTEGER,Height REAL,Weight REAL,Position VARCHAR(255),Goals INTEGER,Assists INTEGER,YellowCards INTEGER,RedCards INTEGER,PassCompletionRate REAL,DistanceCovered REAL,Sprints INTEGER,ShotsOnTarget INTEGER,TacklesWon INTEGER,CleanSheets INTEGER,PlayerFatigue REAL,MatchPressure INTEGER,InjuryHistory INTEGER,TrainingHours REAL,FatigueInjuryCorrelation REAL,PressurePerformanceImpact REAL,EffectiveTraining REAL,Season INTEGER,EffectiveTrainingHours\tINTEGER,PerformanceRatio\tINTEGER,PredictedPerformanceCategory VARCHAR(255),FatiguePressureInteraction\tINTEGER,PredictedInteractionCategory VARCHAR(255))\n",
    "    ''')\n",
    "#Creation of index on the column positions for faster querying on that column.\n",
    "cursor.execute(\"SHOW INDEX FROM sports_dataset WHERE Key_name = 'idx_position'\")\n",
    "index_exists = cursor.fetchone()\n",
    "if not index_exists:\n",
    "    cursor.execute('CREATE INDEX idx_position ON sports_dataset (Team)')\n",
    "#Commiting the transaction\n",
    "conn.commit()\n",
    "conn.close()\n",
    "print(\"Database and table setup complete.\")"
   ]
  },
  {
   "cell_type": "markdown",
   "id": "aa26b5c9",
   "metadata": {},
   "source": [
    "### 3. Incremental Loading"
   ]
  },
  {
   "cell_type": "code",
   "execution_count": 4,
   "id": "74cd08d5",
   "metadata": {},
   "outputs": [],
   "source": [
    "def load_new_data(csv_file):\n",
    "    logging.info('Loading new data from CSV file.')\n",
    "    \n",
    "    #Loading the new data from the CSV file\n",
    "    new_data = pd.read_csv(csv_file)\n",
    "    conn = mysql.connector.connect(**db_configuration)\n",
    "    cursor = conn.cursor()\n",
    "    #Get existing indices from the database\n",
    "    cursor.execute(\"SELECT Sl_no FROM sports_dataset\")\n",
    "    existing_indexes = [row[0] for row in cursor.fetchall()]\n",
    "    #Filtering out records that already exist in the database\n",
    "    new_records = new_data[~new_data['Sl_no'].isin(existing_indexes)]\n",
    "    logging.info(f'Found {len(new_records)} new records to insert.')\n",
    "    #Inserting new records into the database\n",
    "    for _, row in new_records.iterrows():\n",
    "        cursor.execute('''\n",
    "            INSERT INTO sports_dataset (\n",
    "                Sl_no, Unnamed, Player, Team, Age, Height, Weight,\n",
    "       Position, Goals, Assists, YellowCards, RedCards,\n",
    "       PassCompletionRate, DistanceCovered,Sprints, ShotsOnTarget,\n",
    "       TacklesWon, CleanSheets, PlayerFatigue, MatchPressure,\n",
    "       InjuryHistory, TrainingHours, FatigueInjuryCorrelation,\n",
    "       PressurePerformanceImpact, EffectiveTraining, Season,\n",
    "       EffectiveTrainingHours, PerformanceRatio,\n",
    "       PredictedPerformanceCategory, FatiguePressureInteraction,\n",
    "       PredictedInteractionCategory) \n",
    "       VALUES (%s, %s, %s, %s, %s, %s, %s, %s, %s, %s, %s, %s, %s, %s, %s, %s, %s, %s, %s, %s, %s, %s, %s, %s, %s, %s, %s, %s, %s, %s, %s)\n",
    "        ''', tuple(row))\n",
    "    conn.commit()\n",
    "    conn.close()\n",
    "    \n",
    "    logging.info(f'{len(new_records)} new records inserted.')\n",
    "\n",
    "load_new_data('cleaned_sports_dataset.csv')"
   ]
  }
 ],
 "metadata": {
  "kernelspec": {
   "display_name": "Python 3 (ipykernel)",
   "language": "python",
   "name": "python3"
  },
  "language_info": {
   "codemirror_mode": {
    "name": "ipython",
    "version": 3
   },
   "file_extension": ".py",
   "mimetype": "text/x-python",
   "name": "python",
   "nbconvert_exporter": "python",
   "pygments_lexer": "ipython3",
   "version": "3.9.12"
  }
 },
 "nbformat": 4,
 "nbformat_minor": 5
}
